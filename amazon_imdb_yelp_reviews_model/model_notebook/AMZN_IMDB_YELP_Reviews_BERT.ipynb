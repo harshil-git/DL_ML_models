{
  "nbformat": 4,
  "nbformat_minor": 0,
  "metadata": {
    "colab": {
      "name": "AMZN_IMDB_YELP_Reviews_BERT.ipynb",
      "provenance": [],
      "collapsed_sections": []
    },
    "kernelspec": {
      "name": "python3",
      "display_name": "Python 3"
    },
    "accelerator": "GPU"
  },
  "cells": [
    {
      "cell_type": "code",
      "metadata": {
        "id": "WeONjsBzm5cA",
        "colab_type": "code",
        "colab": {}
      },
      "source": [
        "!wget --quiet https://raw.githubusercontent.com/tensorflow/models/master/official/nlp/bert/tokenization.py"
      ],
      "execution_count": 1,
      "outputs": []
    },
    {
      "cell_type": "code",
      "metadata": {
        "id": "Dbxs0AAuoCME",
        "colab_type": "code",
        "colab": {
          "base_uri": "https://localhost:8080/",
          "height": 34
        },
        "outputId": "b7a88633-0cff-4144-88ca-faf2a468eaf5"
      },
      "source": [
        "!pip install sentencepiece"
      ],
      "execution_count": 2,
      "outputs": [
        {
          "output_type": "stream",
          "text": [
            "Requirement already satisfied: sentencepiece in /usr/local/lib/python3.6/dist-packages (0.1.91)\n"
          ],
          "name": "stdout"
        }
      ]
    },
    {
      "cell_type": "code",
      "metadata": {
        "id": "NKQWTo6Cnwih",
        "colab_type": "code",
        "colab": {}
      },
      "source": [
        "#!pip install tensorflow"
      ],
      "execution_count": 4,
      "outputs": []
    },
    {
      "cell_type": "code",
      "metadata": {
        "id": "Ps8aKNBUnpsB",
        "colab_type": "code",
        "colab": {}
      },
      "source": [
        "import numpy as np\n",
        "import pandas as pd\n",
        "import tensorflow as tf\n",
        "from tensorflow.keras.layers import Dense, Input\n",
        "from tensorflow.keras.optimizers import Adam\n",
        "from tensorflow.keras.models import Model\n",
        "from tensorflow.keras.callbacks import ModelCheckpoint\n",
        "import tensorflow_hub as hub\n",
        "from sklearn.model_selection import StratifiedKFold\n",
        "\n",
        "import tokenization"
      ],
      "execution_count": 5,
      "outputs": []
    },
    {
      "cell_type": "code",
      "metadata": {
        "id": "_jvIm4qUusMi",
        "colab_type": "code",
        "colab": {}
      },
      "source": [
        "#Reading Data\n",
        "am = pd.read_csv(\"/content/drive/My Drive/amazon_imdb_yelp/amazon_cells_labelled.txt\",sep = '\\t', header = None)\n",
        "im = pd.read_csv(\"/content/drive/My Drive/amazon_imdb_yelp/imdb_labelled.txt\",sep = '\\t', header = None)\n",
        "yp = pd.read_csv(\"/content/drive/My Drive/amazon_imdb_yelp/yelp_labelled.txt\",sep = '\\t', header = None)"
      ],
      "execution_count": 6,
      "outputs": []
    },
    {
      "cell_type": "code",
      "metadata": {
        "id": "dpTGLUGUvh7J",
        "colab_type": "code",
        "colab": {}
      },
      "source": [
        "\n",
        "column_names = ['Review', 'Sentiment']"
      ],
      "execution_count": 7,
      "outputs": []
    },
    {
      "cell_type": "code",
      "metadata": {
        "id": "PlC_eCh2usPY",
        "colab_type": "code",
        "colab": {}
      },
      "source": [
        "am.columns = column_names\n",
        "im.columns = column_names\n",
        "yp.columns = column_names"
      ],
      "execution_count": 8,
      "outputs": []
    },
    {
      "cell_type": "code",
      "metadata": {
        "id": "tCnkFKvVv_6c",
        "colab_type": "code",
        "colab": {}
      },
      "source": [
        "data = am.append([im, yp], ignore_index=True)"
      ],
      "execution_count": 9,
      "outputs": []
    },
    {
      "cell_type": "code",
      "metadata": {
        "id": "4nNHmvDYv_8_",
        "colab_type": "code",
        "colab": {
          "base_uri": "https://localhost:8080/",
          "height": 34
        },
        "outputId": "cabde3cd-b8d2-4f47-c69c-509eb6f19420"
      },
      "source": [
        "data.shape"
      ],
      "execution_count": 10,
      "outputs": [
        {
          "output_type": "execute_result",
          "data": {
            "text/plain": [
              "(2748, 2)"
            ]
          },
          "metadata": {
            "tags": []
          },
          "execution_count": 10
        }
      ]
    },
    {
      "cell_type": "code",
      "metadata": {
        "id": "sOA3JflKwAHa",
        "colab_type": "code",
        "colab": {
          "base_uri": "https://localhost:8080/",
          "height": 204
        },
        "outputId": "ad7801ea-df2f-45bc-df2c-d2bca821a65d"
      },
      "source": [
        "data.head()"
      ],
      "execution_count": 11,
      "outputs": [
        {
          "output_type": "execute_result",
          "data": {
            "text/html": [
              "<div>\n",
              "<style scoped>\n",
              "    .dataframe tbody tr th:only-of-type {\n",
              "        vertical-align: middle;\n",
              "    }\n",
              "\n",
              "    .dataframe tbody tr th {\n",
              "        vertical-align: top;\n",
              "    }\n",
              "\n",
              "    .dataframe thead th {\n",
              "        text-align: right;\n",
              "    }\n",
              "</style>\n",
              "<table border=\"1\" class=\"dataframe\">\n",
              "  <thead>\n",
              "    <tr style=\"text-align: right;\">\n",
              "      <th></th>\n",
              "      <th>Review</th>\n",
              "      <th>Sentiment</th>\n",
              "    </tr>\n",
              "  </thead>\n",
              "  <tbody>\n",
              "    <tr>\n",
              "      <th>0</th>\n",
              "      <td>So there is no way for me to plug it in here i...</td>\n",
              "      <td>0</td>\n",
              "    </tr>\n",
              "    <tr>\n",
              "      <th>1</th>\n",
              "      <td>Good case, Excellent value.</td>\n",
              "      <td>1</td>\n",
              "    </tr>\n",
              "    <tr>\n",
              "      <th>2</th>\n",
              "      <td>Great for the jawbone.</td>\n",
              "      <td>1</td>\n",
              "    </tr>\n",
              "    <tr>\n",
              "      <th>3</th>\n",
              "      <td>Tied to charger for conversations lasting more...</td>\n",
              "      <td>0</td>\n",
              "    </tr>\n",
              "    <tr>\n",
              "      <th>4</th>\n",
              "      <td>The mic is great.</td>\n",
              "      <td>1</td>\n",
              "    </tr>\n",
              "  </tbody>\n",
              "</table>\n",
              "</div>"
            ],
            "text/plain": [
              "                                              Review  Sentiment\n",
              "0  So there is no way for me to plug it in here i...          0\n",
              "1                        Good case, Excellent value.          1\n",
              "2                             Great for the jawbone.          1\n",
              "3  Tied to charger for conversations lasting more...          0\n",
              "4                                  The mic is great.          1"
            ]
          },
          "metadata": {
            "tags": []
          },
          "execution_count": 11
        }
      ]
    },
    {
      "cell_type": "code",
      "metadata": {
        "id": "mJkqEPYBDJMW",
        "colab_type": "code",
        "colab": {}
      },
      "source": [
        "import unicodedata"
      ],
      "execution_count": 12,
      "outputs": []
    },
    {
      "cell_type": "code",
      "metadata": {
        "id": "69FSt9gBDJS0",
        "colab_type": "code",
        "colab": {}
      },
      "source": [
        "#Removal of accented text\n",
        "def remove_accented_chars(x):\n",
        "  removed=[]\n",
        "  x = unicodedata.normalize('NFKD',x).encode('ascii','ignore').decode('utf-8','ignore')\n",
        "  removed.append(x)\n",
        "\n",
        "  return \" \".join(removed)"
      ],
      "execution_count": 13,
      "outputs": []
    },
    {
      "cell_type": "code",
      "metadata": {
        "id": "joMLPJHsDJqw",
        "colab_type": "code",
        "colab": {}
      },
      "source": [
        "data['Review'] = data['Review'].apply(remove_accented_chars)"
      ],
      "execution_count": 15,
      "outputs": []
    },
    {
      "cell_type": "code",
      "metadata": {
        "id": "Iq5eTEd5DJwk",
        "colab_type": "code",
        "colab": {}
      },
      "source": [
        "#!pip install contractions"
      ],
      "execution_count": 18,
      "outputs": []
    },
    {
      "cell_type": "code",
      "metadata": {
        "id": "rBzhJkAdDJt9",
        "colab_type": "code",
        "colab": {}
      },
      "source": [
        "import contractions"
      ],
      "execution_count": 19,
      "outputs": []
    },
    {
      "cell_type": "code",
      "metadata": {
        "id": "EoKMBSyADJgg",
        "colab_type": "code",
        "colab": {}
      },
      "source": [
        "#Contractions to expansions\n",
        "data['Review'] = data['Review'].apply(lambda x: ' '.join([contractions.fix(t) for t in x.split()]))"
      ],
      "execution_count": 21,
      "outputs": []
    },
    {
      "cell_type": "code",
      "metadata": {
        "id": "-1egMwMwDJQD",
        "colab_type": "code",
        "colab": {}
      },
      "source": [
        "import re"
      ],
      "execution_count": 22,
      "outputs": []
    },
    {
      "cell_type": "code",
      "metadata": {
        "id": "BpOnpePXDJJR",
        "colab_type": "code",
        "colab": {}
      },
      "source": [
        "#Removal of web links\n",
        "def remove_links(text):\n",
        "    text = re.sub(r'(http|ftp|https)://([\\w_-]+(?:(?:\\.[\\w_-]+)+))([\\w.,@?^=%&:/~+#-]*[\\w@?^=%&/~+#-])?','',text)\n",
        "    return text"
      ],
      "execution_count": 23,
      "outputs": []
    },
    {
      "cell_type": "code",
      "metadata": {
        "id": "-JYbTBaKDe3M",
        "colab_type": "code",
        "colab": {}
      },
      "source": [
        "data['Review'] = data['Review'].apply(lambda x:remove_links(x))"
      ],
      "execution_count": 24,
      "outputs": []
    },
    {
      "cell_type": "code",
      "metadata": {
        "id": "34svUS5BDfEk",
        "colab_type": "code",
        "colab": {
          "base_uri": "https://localhost:8080/",
          "height": 34
        },
        "outputId": "6ed59f7e-eec6-4c51-c23c-d6a435bea7b1"
      },
      "source": [
        "!pip install beautifulsoup4"
      ],
      "execution_count": 25,
      "outputs": [
        {
          "output_type": "stream",
          "text": [
            "Requirement already satisfied: beautifulsoup4 in /usr/local/lib/python3.6/dist-packages (4.6.3)\n"
          ],
          "name": "stdout"
        }
      ]
    },
    {
      "cell_type": "code",
      "metadata": {
        "id": "zYK4TvDeDfKf",
        "colab_type": "code",
        "colab": {}
      },
      "source": [
        "from bs4 import BeautifulSoup"
      ],
      "execution_count": 26,
      "outputs": []
    },
    {
      "cell_type": "code",
      "metadata": {
        "id": "Ag8QkSXgDfHx",
        "colab_type": "code",
        "colab": {}
      },
      "source": [
        "#Removal of html tags\n",
        "data['Review'] = data['Review'].apply(lambda x: BeautifulSoup(x,'lxml').get_text())"
      ],
      "execution_count": 27,
      "outputs": []
    },
    {
      "cell_type": "code",
      "metadata": {
        "id": "QiF1TsldDe7L",
        "colab_type": "code",
        "colab": {}
      },
      "source": [
        "#removal of special characters, numbers,white spaces\n",
        "data['Review'] = data['Review'].apply(lambda x: ' '.join(re.sub(\"(@[A-Za-z0-9]+)|([^0-9A-Za-z \\t])|(\\w+:\\/\\/\\S+)\", \" \",str(x)).split()))"
      ],
      "execution_count": 28,
      "outputs": []
    },
    {
      "cell_type": "code",
      "metadata": {
        "id": "i4w1B_2jD0mG",
        "colab_type": "code",
        "colab": {}
      },
      "source": [
        "#!pip install spacy"
      ],
      "execution_count": 29,
      "outputs": []
    },
    {
      "cell_type": "code",
      "metadata": {
        "id": "Cw6F8TklD0sE",
        "colab_type": "code",
        "colab": {}
      },
      "source": [
        "import spacy"
      ],
      "execution_count": 30,
      "outputs": []
    },
    {
      "cell_type": "code",
      "metadata": {
        "id": "hxB1-9GuD0pX",
        "colab_type": "code",
        "colab": {}
      },
      "source": [
        "#!python -m spacy download en_core_web_lg"
      ],
      "execution_count": 31,
      "outputs": []
    },
    {
      "cell_type": "code",
      "metadata": {
        "id": "moXC8YnGD0jS",
        "colab_type": "code",
        "colab": {}
      },
      "source": [
        "from spacy.lang.en.stop_words import STOP_WORDS\n",
        "stopwords = list(STOP_WORDS)"
      ],
      "execution_count": 32,
      "outputs": []
    },
    {
      "cell_type": "code",
      "metadata": {
        "id": "BbX-7UERDe0F",
        "colab_type": "code",
        "colab": {}
      },
      "source": [
        "nlp = spacy.load('en_core_web_lg')"
      ],
      "execution_count": 33,
      "outputs": []
    },
    {
      "cell_type": "code",
      "metadata": {
        "id": "BfeZwfy4EBZV",
        "colab_type": "code",
        "colab": {}
      },
      "source": [
        "sent = nlp.create_pipe('sentencizer')"
      ],
      "execution_count": 34,
      "outputs": []
    },
    {
      "cell_type": "code",
      "metadata": {
        "id": "vW7pWc4oEBfa",
        "colab_type": "code",
        "colab": {}
      },
      "source": [
        "nlp.add_pipe(sent, before='parser')"
      ],
      "execution_count": 35,
      "outputs": []
    },
    {
      "cell_type": "code",
      "metadata": {
        "id": "xVTb8jtnEBoP",
        "colab_type": "code",
        "colab": {}
      },
      "source": [
        "import string"
      ],
      "execution_count": 36,
      "outputs": []
    },
    {
      "cell_type": "code",
      "metadata": {
        "id": "QL0gP8pPEBuN",
        "colab_type": "code",
        "colab": {
          "base_uri": "https://localhost:8080/",
          "height": 35
        },
        "outputId": "e53e9498-a551-4a07-f44e-14d48ac181ed"
      },
      "source": [
        "punc = string.punctuation\n",
        "punc"
      ],
      "execution_count": 37,
      "outputs": [
        {
          "output_type": "execute_result",
          "data": {
            "application/vnd.google.colaboratory.intrinsic+json": {
              "type": "string"
            },
            "text/plain": [
              "'!\"#$%&\\'()*+,-./:;<=>?@[\\\\]^_`{|}~'"
            ]
          },
          "metadata": {
            "tags": []
          },
          "execution_count": 37
        }
      ]
    },
    {
      "cell_type": "code",
      "metadata": {
        "id": "zGpq5KBGEBrj",
        "colab_type": "code",
        "colab": {}
      },
      "source": [
        "#Removal of stopwords,puctuations\n",
        "def text_data_preprocess(sentence):\n",
        "    doc = nlp(sentence)\n",
        "    token = \"  \".join(str(doc).split())\n",
        "    cleaned_tokens = []\n",
        "    if token not in stopwords and token not in punc:\n",
        "        cleaned_tokens.append(token.lower())\n",
        "    return \"  \".join(cleaned_tokens)"
      ],
      "execution_count": 38,
      "outputs": []
    },
    {
      "cell_type": "code",
      "metadata": {
        "id": "L1OBuFfnEBl2",
        "colab_type": "code",
        "colab": {}
      },
      "source": [
        "data['head'] = data['Review'].apply(text_data_preprocess)"
      ],
      "execution_count": 39,
      "outputs": []
    },
    {
      "cell_type": "code",
      "metadata": {
        "id": "QH7_FUyUEBcp",
        "colab_type": "code",
        "colab": {
          "base_uri": "https://localhost:8080/",
          "height": 204
        },
        "outputId": "8c5aa513-1d71-4dbc-bf0f-77b837ebbefd"
      },
      "source": [
        "data.head()"
      ],
      "execution_count": 40,
      "outputs": [
        {
          "output_type": "execute_result",
          "data": {
            "text/html": [
              "<div>\n",
              "<style scoped>\n",
              "    .dataframe tbody tr th:only-of-type {\n",
              "        vertical-align: middle;\n",
              "    }\n",
              "\n",
              "    .dataframe tbody tr th {\n",
              "        vertical-align: top;\n",
              "    }\n",
              "\n",
              "    .dataframe thead th {\n",
              "        text-align: right;\n",
              "    }\n",
              "</style>\n",
              "<table border=\"1\" class=\"dataframe\">\n",
              "  <thead>\n",
              "    <tr style=\"text-align: right;\">\n",
              "      <th></th>\n",
              "      <th>Review</th>\n",
              "      <th>Sentiment</th>\n",
              "      <th>head</th>\n",
              "    </tr>\n",
              "  </thead>\n",
              "  <tbody>\n",
              "    <tr>\n",
              "      <th>0</th>\n",
              "      <td>So there is no way for me to plug it in here i...</td>\n",
              "      <td>0</td>\n",
              "      <td>so  there  is  no  way  for  me  to  plug  it ...</td>\n",
              "    </tr>\n",
              "    <tr>\n",
              "      <th>1</th>\n",
              "      <td>Good case Excellent value</td>\n",
              "      <td>1</td>\n",
              "      <td>good  case  excellent  value</td>\n",
              "    </tr>\n",
              "    <tr>\n",
              "      <th>2</th>\n",
              "      <td>Great for the jawbone</td>\n",
              "      <td>1</td>\n",
              "      <td>great  for  the  jawbone</td>\n",
              "    </tr>\n",
              "    <tr>\n",
              "      <th>3</th>\n",
              "      <td>Tied to charger for conversations lasting more...</td>\n",
              "      <td>0</td>\n",
              "      <td>tied  to  charger  for  conversations  lasting...</td>\n",
              "    </tr>\n",
              "    <tr>\n",
              "      <th>4</th>\n",
              "      <td>The mic is great</td>\n",
              "      <td>1</td>\n",
              "      <td>the  mic  is  great</td>\n",
              "    </tr>\n",
              "  </tbody>\n",
              "</table>\n",
              "</div>"
            ],
            "text/plain": [
              "                                              Review  ...                                               head\n",
              "0  So there is no way for me to plug it in here i...  ...  so  there  is  no  way  for  me  to  plug  it ...\n",
              "1                          Good case Excellent value  ...                       good  case  excellent  value\n",
              "2                              Great for the jawbone  ...                           great  for  the  jawbone\n",
              "3  Tied to charger for conversations lasting more...  ...  tied  to  charger  for  conversations  lasting...\n",
              "4                                   The mic is great  ...                                the  mic  is  great\n",
              "\n",
              "[5 rows x 3 columns]"
            ]
          },
          "metadata": {
            "tags": []
          },
          "execution_count": 40
        }
      ]
    },
    {
      "cell_type": "code",
      "metadata": {
        "id": "tOsNciDKEWQO",
        "colab_type": "code",
        "colab": {}
      },
      "source": [
        "data.to_csv('cleaned_amzn_ylp_imdb_data.csv',index=False)"
      ],
      "execution_count": 41,
      "outputs": []
    },
    {
      "cell_type": "code",
      "metadata": {
        "id": "hO20wLvPEWLP",
        "colab_type": "code",
        "colab": {}
      },
      "source": [
        ""
      ],
      "execution_count": 41,
      "outputs": []
    },
    {
      "cell_type": "code",
      "metadata": {
        "id": "cjp4-uOWEBWV",
        "colab_type": "code",
        "colab": {}
      },
      "source": [
        "#Bert Preprocessing"
      ],
      "execution_count": 42,
      "outputs": []
    },
    {
      "cell_type": "code",
      "metadata": {
        "id": "p3voOIpBns_b",
        "colab_type": "code",
        "colab": {}
      },
      "source": [
        "def bert_encode(texts):\n",
        "    all_tokens = []\n",
        "    all_masks = []\n",
        "    all_segments = []\n",
        "    max_len = 512\n",
        "    \n",
        "    for text in texts:\n",
        "        text = tokenizer.tokenize(text)\n",
        "            \n",
        "        text = text[:max_len-2]\n",
        "        input_sequence = [\"[CLS]\"] + text + [\"[SEP]\"]\n",
        "        pad_len = max_len - len(input_sequence)\n",
        "        \n",
        "        tokens = tokenizer.convert_tokens_to_ids(input_sequence)\n",
        "        tokens += [0] * pad_len\n",
        "        pad_masks = [1] * len(input_sequence) + [0] * pad_len\n",
        "        segment_ids = [0] * max_len\n",
        "        \n",
        "        all_tokens.append(tokens)\n",
        "        all_masks.append(pad_masks)\n",
        "        all_segments.append(segment_ids)\n",
        "    \n",
        "    return np.array(all_tokens), np.array(all_masks), np.array(all_segments)"
      ],
      "execution_count": 43,
      "outputs": []
    },
    {
      "cell_type": "code",
      "metadata": {
        "id": "aoQz016noWx9",
        "colab_type": "code",
        "colab": {}
      },
      "source": [
        "def build_model(bert_layer,max_len=512):\n",
        "    input_word_ids = Input(shape=(max_len,), dtype=tf.int32, name=\"input_word_ids\")\n",
        "    input_mask = Input(shape=(max_len,), dtype=tf.int32, name=\"input_mask\")\n",
        "    segment_ids = Input(shape=(max_len,), dtype=tf.int32, name=\"segment_ids\")\n",
        "\n",
        "    _, sequence_output = bert_layer([input_word_ids, input_mask, segment_ids])\n",
        "    clf_output = sequence_output[:, 0, :]\n",
        "    out = Dense(1, activation='sigmoid')(clf_output)\n",
        "    \n",
        "    model = Model(inputs=[input_word_ids, input_mask, segment_ids], outputs=out)\n",
        "    model.compile(Adam(lr=1e-5), loss='binary_crossentropy', metrics=['accuracy'])\n",
        "    \n",
        "    return model"
      ],
      "execution_count": 44,
      "outputs": []
    },
    {
      "cell_type": "code",
      "metadata": {
        "id": "odKDpDokokNj",
        "colab_type": "code",
        "colab": {}
      },
      "source": [
        "\n",
        "module_url = \"https://tfhub.dev/tensorflow/bert_en_uncased_L-24_H-1024_A-16/1\"\n",
        "bert_layer = hub.KerasLayer(module_url, trainable=True)"
      ],
      "execution_count": 45,
      "outputs": []
    },
    {
      "cell_type": "code",
      "metadata": {
        "id": "lDMKTddPomzp",
        "colab_type": "code",
        "colab": {}
      },
      "source": [
        "vocab_file = bert_layer.resolved_object.vocab_file.asset_path.numpy()\n",
        "do_lower_case = bert_layer.resolved_object.do_lower_case.numpy()\n",
        "tokenizer = tokenization.FullTokenizer(vocab_file, do_lower_case)"
      ],
      "execution_count": 46,
      "outputs": []
    },
    {
      "cell_type": "code",
      "metadata": {
        "id": "QX8zeSl_WBlZ",
        "colab_type": "code",
        "colab": {
          "base_uri": "https://localhost:8080/",
          "height": 343
        },
        "outputId": "ddf4699d-9883-4bd1-c60d-a61eb342de7d"
      },
      "source": [
        "#using folds\n",
        "\n",
        "skf = StratifiedKFold(n_splits=2)\n",
        "for fold, (trn_idx, val_idx) in enumerate(skf.split(data['head'],data['Sentiment'])):\n",
        "  print('\\nFold {}\\n'.format(fold))\n",
        "  \n",
        "\n",
        "  X_trn_encoded = bert_encode(data.loc[trn_idx, 'head'].str.lower())\n",
        "  y_trn = data.loc[trn_idx, 'Sentiment']\n",
        "  X_val_encoded = bert_encode(data.loc[val_idx, 'head'].str.lower())\n",
        "  y_val = data.loc[val_idx, 'Sentiment']\n",
        "        \n",
        "            \n",
        "\n",
        "  model = build_model(bert_layer,max_len=512)   \n",
        "       \n",
        "  model.fit(X_trn_encoded, y_trn, validation_data=(X_val_encoded, y_val), epochs=2,batch_size=2,verbose=1)\n",
        "  \n"
      ],
      "execution_count": 47,
      "outputs": [
        {
          "output_type": "stream",
          "text": [
            "\n",
            "Fold 0\n",
            "\n",
            "Epoch 1/2\n",
            "687/687 [==============================] - ETA: 0s - loss: 0.2311 - accuracy: 0.9148WARNING:tensorflow:Callbacks method `on_test_batch_end` is slow compared to the batch time (batch time: 0.0799s vs `on_test_batch_end` time: 0.1810s). Check your callbacks.\n"
          ],
          "name": "stdout"
        },
        {
          "output_type": "stream",
          "text": [
            "WARNING:tensorflow:Callbacks method `on_test_batch_end` is slow compared to the batch time (batch time: 0.0799s vs `on_test_batch_end` time: 0.1810s). Check your callbacks.\n"
          ],
          "name": "stderr"
        },
        {
          "output_type": "stream",
          "text": [
            "\b\b\b\b\b\b\b\b\b\b\b\b\b\b\b\b\b\b\b\b\b\b\b\b\b\b\b\b\b\b\b\b\b\b\b\b\b\b\b\b\b\b\b\b\b\b\b\b\b\b\b\b\b\b\b\b\b\b\b\b\b\b\b\b\b\b\b\b\b\b\b\b\b\b\b\b\b\b\b\b\b\b\b\b\r687/687 [==============================] - 692s 1s/step - loss: 0.2311 - accuracy: 0.9148 - val_loss: 0.2216 - val_accuracy: 0.9221\n",
            "Epoch 2/2\n",
            "687/687 [==============================] - 692s 1s/step - loss: 0.0571 - accuracy: 0.9811 - val_loss: 0.1807 - val_accuracy: 0.9381\n",
            "\n",
            "Fold 1\n",
            "\n",
            "Epoch 1/2\n",
            "687/687 [==============================] - ETA: 0s - loss: 0.1896 - accuracy: 0.9389WARNING:tensorflow:Callbacks method `on_test_batch_end` is slow compared to the batch time (batch time: 0.0790s vs `on_test_batch_end` time: 0.1815s). Check your callbacks.\n"
          ],
          "name": "stdout"
        },
        {
          "output_type": "stream",
          "text": [
            "WARNING:tensorflow:Callbacks method `on_test_batch_end` is slow compared to the batch time (batch time: 0.0790s vs `on_test_batch_end` time: 0.1815s). Check your callbacks.\n"
          ],
          "name": "stderr"
        },
        {
          "output_type": "stream",
          "text": [
            "\b\b\b\b\b\b\b\b\b\b\b\b\b\b\b\b\b\b\b\b\b\b\b\b\b\b\b\b\b\b\b\b\b\b\b\b\b\b\b\b\b\b\b\b\b\b\b\b\b\b\b\b\b\b\b\b\b\b\b\b\b\b\b\b\b\b\b\b\b\b\b\b\b\b\b\b\b\b\b\b\b\b\b\b\r687/687 [==============================] - 696s 1s/step - loss: 0.1896 - accuracy: 0.9389 - val_loss: 0.1151 - val_accuracy: 0.9818\n",
            "Epoch 2/2\n",
            "687/687 [==============================] - 695s 1s/step - loss: 0.0247 - accuracy: 0.9934 - val_loss: 0.0361 - val_accuracy: 0.9913\n"
          ],
          "name": "stdout"
        }
      ]
    },
    {
      "cell_type": "code",
      "metadata": {
        "id": "y88-bv6xF4Gg",
        "colab_type": "code",
        "colab": {}
      },
      "source": [
        "#saving a model\n",
        "model.save('/content/drive/My Drive/amazon_imdb_yelp/review_bert_git.h5')"
      ],
      "execution_count": 48,
      "outputs": []
    },
    {
      "cell_type": "code",
      "metadata": {
        "id": "C4vlBJBIFKeU",
        "colab_type": "code",
        "colab": {}
      },
      "source": [
        ""
      ],
      "execution_count": null,
      "outputs": []
    },
    {
      "cell_type": "code",
      "metadata": {
        "id": "YU_h6BvfrFey",
        "colab_type": "code",
        "colab": {}
      },
      "source": [
        ""
      ],
      "execution_count": null,
      "outputs": []
    }
  ]
}